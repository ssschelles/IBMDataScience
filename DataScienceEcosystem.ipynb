{
 "cells": [
  {
   "cell_type": "markdown",
   "id": "0bf281ea-7f43-4296-988b-50edc85ebb5b",
   "metadata": {},
   "source": [
    "# Data Science Tools and Ecosystem"
   ]
  },
  {
   "cell_type": "markdown",
   "id": "4e225d2c-c0ee-4772-a057-06239cb59fe4",
   "metadata": {},
   "source": [
    "## Author\n",
    "Amanda Ferreira Schelles"
   ]
  },
  {
   "cell_type": "markdown",
   "id": "ccd9c79d-2222-48a6-8c9c-944309e5ac82",
   "metadata": {},
   "source": [
    "### In this notebook, Data Science Tools and Ecosystem are summarized."
   ]
  },
  {
   "cell_type": "markdown",
   "id": "a6e02bed-c287-4fb4-8231-667aab9f7af6",
   "metadata": {},
   "source": [
    "**Objectives:**\n",
    "- List popular languages for Data Science.  \n",
    "- Identify commonly used Data Science libraries.  \n",
    "- Demonstrate arithmetic expressions in Python.  \n",
    "- Convert time from minutes to hours using Python.  \n"
   ]
  },
  {
   "cell_type": "markdown",
   "id": "1564e188-6cc4-48df-8d9b-63eb00e18211",
   "metadata": {},
   "source": [
    "Some of the popular languages that Data Scientists use are:\n",
    "1. **Python**\n",
    "2. **R**\n",
    "3. **SQL**"
   ]
  },
  {
   "cell_type": "markdown",
   "id": "fdaab8ff-3526-4ae4-92db-54914666869c",
   "metadata": {},
   "source": [
    "Some of the commonly used libraries used by Data Scientists include:\n",
    "1. **Pandas**\n",
    "2. **Numpy**\n",
    "3. **Matplotlib**\n",
    "4. **Seaborn**\n",
    "5. **ScikitLearn**"
   ]
  },
  {
   "cell_type": "markdown",
   "id": "dcaf8f96-360f-4a42-8f2f-c1e1c95f5577",
   "metadata": {},
   "source": [
    "| Data Science Tools |\n",
    "|--------------------|\n",
    "| Jupyter Notebook  |\n",
    "| RStudio          |\n",
    "| Apache Zeppelin  |\n"
   ]
  },
  {
   "cell_type": "markdown",
   "id": "bc7c8c2d-67c3-41a7-aca0-4945abb5e3a0",
   "metadata": {},
   "source": [
    "### Below are a few examples of evaluating arithmetic expressions in Python:\n"
   ]
  },
  {
   "cell_type": "code",
   "execution_count": 12,
   "id": "8e30670c-d39d-45be-92f2-5a6e8c54f025",
   "metadata": {},
   "outputs": [
    {
     "data": {
      "text/plain": [
       "17"
      ]
     },
     "execution_count": 12,
     "metadata": {},
     "output_type": "execute_result"
    }
   ],
   "source": [
    "# This a simple arithmetic expression to mutiply then add integers\n",
    "\n",
    "(3*4)+5"
   ]
  },
  {
   "cell_type": "code",
   "execution_count": 18,
   "id": "89127480-b509-4705-b5bc-9af6f6e09ec0",
   "metadata": {},
   "outputs": [
    {
     "data": {
      "text/plain": [
       "3.33"
      ]
     },
     "execution_count": 18,
     "metadata": {},
     "output_type": "execute_result"
    }
   ],
   "source": [
    "# This will convert 200 minutes to hours by diving by 60\n",
    "\n",
    "round(200/60,2)"
   ]
  },
  {
   "cell_type": "code",
   "execution_count": null,
   "id": "4c28def7-ac66-4b06-9057-748880b36259",
   "metadata": {},
   "outputs": [],
   "source": []
  }
 ],
 "metadata": {
  "kernelspec": {
   "display_name": "aluraenviroment",
   "language": "python",
   "name": "aluraenviroment"
  },
  "language_info": {
   "codemirror_mode": {
    "name": "ipython",
    "version": 3
   },
   "file_extension": ".py",
   "mimetype": "text/x-python",
   "name": "python",
   "nbconvert_exporter": "python",
   "pygments_lexer": "ipython3",
   "version": "3.9.13"
  }
 },
 "nbformat": 4,
 "nbformat_minor": 5
}
