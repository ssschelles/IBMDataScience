{
 "cells": [
  {
   "cell_type": "markdown",
   "id": "1ded432a-9510-42ab-a7c6-3a217bbf76ba",
   "metadata": {},
   "source": [
    "# Extracting and Visualizing Stock Data"
   ]
  },
  {
   "cell_type": "code",
   "execution_count": 1,
   "id": "52609e42-e932-408d-8ca9-4dba741b9f35",
   "metadata": {},
   "outputs": [],
   "source": [
    "import yfinance as yf\n",
    "import pandas as pd \n",
    "import requests \n",
    "from bs4 import BeautifulSoup\n",
    "import plotly.graph_objects as go \n",
    "from plotly.subplots import make_subplots\n",
    "import plotly.io as pio\n",
    "from io import StringIO"
   ]
  },
  {
   "cell_type": "code",
   "execution_count": 2,
   "id": "9271069b-5dc7-4894-8f81-1fc9fcaaa864",
   "metadata": {},
   "outputs": [],
   "source": [
    "pio.renderers.default = 'iframe' # os gráficos serão renderizados dentro de um iframe HTML"
   ]
  },
  {
   "cell_type": "markdown",
   "id": "952b2d69-5b12-4327-a9e8-2f753e03e511",
   "metadata": {},
   "source": [
    "## Define Graphing Function"
   ]
  },
  {
   "cell_type": "code",
   "execution_count": 6,
   "id": "c46f1bd4-6d3c-4e29-87ed-7736eb24c9e8",
   "metadata": {},
   "outputs": [],
   "source": [
    "def make_graph(stock_data, revenue_data, stock):\n",
    "    fig = make_subplots(\n",
    "        rows=2, cols=1, shared_xaxes=True,\n",
    "        subplot_titles=(\"Historical Revenue\", \"Historical Revenue\"),\n",
    "        vertical_spacing=0.3\n",
    "    )\n",
    "\n",
    "    # Convertendo Date para datetime\n",
    "    stock_data[\"Date\"] = pd.to_datetime(stock_data[\"Date\"])\n",
    "    revenue_data[\"Date\"] = pd.to_datetime(revenue_data[\"Date\"])\n",
    "\n",
    "    # Filtrando datas\n",
    "    stock_data_specific = stock_data[stock_data[\"Date\"] <= \"2021-06-14\"]\n",
    "    revenue_data_specific = revenue_data[revenue_data[\"Date\"] <= \"2021-04-30\"]\n",
    "\n",
    "    # Plotando os dados de revenue duas vezes, já que Close não existe\n",
    "    fig.add_trace(\n",
    "        go.Scatter(\n",
    "            x=stock_data_specific[\"Date\"],\n",
    "            y=stock_data_specific[\"Revenue\"].astype(\"float\"),\n",
    "            name=\"Revenue\"\n",
    "        ), row=1, col=1\n",
    "    )\n",
    "\n",
    "    fig.add_trace(\n",
    "        go.Scatter(\n",
    "            x=revenue_data_specific[\"Date\"],\n",
    "            y=revenue_data_specific[\"Revenue\"].astype(\"float\"),\n",
    "            name=\"Revenue\"\n",
    "        ), row=2, col=1\n",
    "    )\n",
    "\n",
    "    # Configuração dos eixos\n",
    "    fig.update_xaxes(title_text=\"Date\", row=1, col=1)\n",
    "    fig.update_xaxes(title_text=\"Date\", row=2, col=1)\n",
    "    fig.update_yaxes(title_text=\"Revenue ($US Millions)\", row=1, col=1)\n",
    "    fig.update_yaxes(title_text=\"Revenue ($US Millions)\", row=2, col=1)\n",
    "\n",
    "    # Layout final\n",
    "    fig.update_layout(\n",
    "        showlegend=False,\n",
    "        height=900,\n",
    "        title=stock,\n",
    "        xaxis_rangeslider_visible=True\n",
    "    )\n",
    "\n",
    "    # Exibição\n",
    "    fig.write_html(\"grafico_tesla.html\")\n",
    "    import webbrowser\n",
    "    webbrowser.open(\"grafico_tesla.html\")"
   ]
  },
  {
   "cell_type": "code",
   "execution_count": 228,
   "id": "0a85d9f6-e42e-4784-8275-065de189a155",
   "metadata": {},
   "outputs": [],
   "source": [
    "def make_graph(stock_data, revenue_data, stock):\n",
    "    fig = make_subplots(rows=2, cols=1, shared_xaxes=True, subplot_titles=(\"Historical Share Price\", \"Historical Revenue\"), vertical_spacing = .3)\n",
    "    \n",
    "    # Filtrando datas\n",
    "    stock_data_specific = stock_data[stock_data.Date <= '2021-06-14']\n",
    "    revenue_data_specific = revenue_data[revenue_data.Date <= '2021-04-30']\n",
    "\n",
    "    \n",
    "    fig.add_trace(go.Scatter(x=pd.to_datetime(stock_data_specific.Date), y=stock_data_specific.astype(\"float\"), name=\"Share Price\"), row=1, col=1)\n",
    "    fig.add_trace(go.Scatter(x=pd.to_datetime(revenue_data_specific.Date), y=revenue_data_specific.Revenue.astype(\"float\"), name=\"Revenue\"), row=2, col=1)\n",
    "    fig.update_xaxes(title_text=\"Date\", row=1, col=1)\n",
    "    fig.update_xaxes(title_text=\"Date\", row=2, col=1)\n",
    "    fig.update_yaxes(title_text=\"Price ($US)\", row=1, col=1)\n",
    "    fig.update_yaxes(title_text=\"Revenue ($US Millions)\", row=2, col=1)\n",
    "    fig.update_layout(showlegend=False,\n",
    "    height=900,\n",
    "    title=stock,\n",
    "    xaxis_rangeslider_visible=True)\n",
    "    fig.show()\n",
    "    from IPython.display import display, HTML\n",
    "    fig_html = fig.to_html()\n",
    "    display(HTML(fig_html))"
   ]
  },
  {
   "cell_type": "markdown",
   "id": "0803892c-a145-4fed-b473-aae05bb0cb6c",
   "metadata": {},
   "source": [
    "## Question 1: Use yfinance to Extract Stock Data"
   ]
  },
  {
   "cell_type": "markdown",
   "id": "35a224fc-7804-4cde-b1d7-82711bc1eca9",
   "metadata": {},
   "source": [
    "Using the Ticker function enter the ticker symbol of the stock we want to extract data on to create a ticker object. The stock is Tesla and its ticker symbol is TSLA."
   ]
  },
  {
   "cell_type": "code",
   "execution_count": 8,
   "id": "ce73eba7-9cb9-4006-96ae-1a28e294ab10",
   "metadata": {},
   "outputs": [],
   "source": [
    "ticker = yf.Ticker('TSLA')"
   ]
  },
  {
   "cell_type": "markdown",
   "id": "52829ec1-c56b-4855-b5b7-1cf852ea6ee6",
   "metadata": {},
   "source": [
    "Using the ticker object and the function history extract stock information and save it in a dataframe named tesla_data. Set the period parameter to \"max\" so we get information for the maximum amount of time."
   ]
  },
  {
   "cell_type": "code",
   "execution_count": 11,
   "id": "7a852bba-7291-4bc2-9680-bc800b492595",
   "metadata": {},
   "outputs": [
    {
     "data": {
      "text/plain": [
       "pandas.core.frame.DataFrame"
      ]
     },
     "execution_count": 11,
     "metadata": {},
     "output_type": "execute_result"
    }
   ],
   "source": [
    "tesla_data = ticker.history(period = 'max') # Retorna um DataFrame\n",
    "type(tesla_data)"
   ]
  },
  {
   "cell_type": "markdown",
   "id": "536aa909-7303-4705-b3f3-5f683cce2d7c",
   "metadata": {},
   "source": [
    "\n",
    "Reset the index using the reset_index(inplace=True) function on the tesla_data DataFrame and display the first five rows of the tesla_data dataframe using the head function. Take a screenshot of the results and code from the beginning of Question 1 to the results below."
   ]
  },
  {
   "cell_type": "code",
   "execution_count": 13,
   "id": "cd7a2b4b-ce65-4282-843e-e4d78935cbf2",
   "metadata": {},
   "outputs": [
    {
     "data": {
      "text/html": [
       "<div>\n",
       "<style scoped>\n",
       "    .dataframe tbody tr th:only-of-type {\n",
       "        vertical-align: middle;\n",
       "    }\n",
       "\n",
       "    .dataframe tbody tr th {\n",
       "        vertical-align: top;\n",
       "    }\n",
       "\n",
       "    .dataframe thead th {\n",
       "        text-align: right;\n",
       "    }\n",
       "</style>\n",
       "<table border=\"1\" class=\"dataframe\">\n",
       "  <thead>\n",
       "    <tr style=\"text-align: right;\">\n",
       "      <th></th>\n",
       "      <th>Date</th>\n",
       "      <th>Open</th>\n",
       "      <th>High</th>\n",
       "      <th>Low</th>\n",
       "      <th>Close</th>\n",
       "      <th>Volume</th>\n",
       "      <th>Dividends</th>\n",
       "      <th>Stock Splits</th>\n",
       "    </tr>\n",
       "  </thead>\n",
       "  <tbody>\n",
       "    <tr>\n",
       "      <th>0</th>\n",
       "      <td>2010-06-29 00:00:00-04:00</td>\n",
       "      <td>1.266667</td>\n",
       "      <td>1.666667</td>\n",
       "      <td>1.169333</td>\n",
       "      <td>1.592667</td>\n",
       "      <td>281494500</td>\n",
       "      <td>0.0</td>\n",
       "      <td>0.0</td>\n",
       "    </tr>\n",
       "    <tr>\n",
       "      <th>1</th>\n",
       "      <td>2010-06-30 00:00:00-04:00</td>\n",
       "      <td>1.719333</td>\n",
       "      <td>2.028000</td>\n",
       "      <td>1.553333</td>\n",
       "      <td>1.588667</td>\n",
       "      <td>257806500</td>\n",
       "      <td>0.0</td>\n",
       "      <td>0.0</td>\n",
       "    </tr>\n",
       "    <tr>\n",
       "      <th>2</th>\n",
       "      <td>2010-07-01 00:00:00-04:00</td>\n",
       "      <td>1.666667</td>\n",
       "      <td>1.728000</td>\n",
       "      <td>1.351333</td>\n",
       "      <td>1.464000</td>\n",
       "      <td>123282000</td>\n",
       "      <td>0.0</td>\n",
       "      <td>0.0</td>\n",
       "    </tr>\n",
       "    <tr>\n",
       "      <th>3</th>\n",
       "      <td>2010-07-02 00:00:00-04:00</td>\n",
       "      <td>1.533333</td>\n",
       "      <td>1.540000</td>\n",
       "      <td>1.247333</td>\n",
       "      <td>1.280000</td>\n",
       "      <td>77097000</td>\n",
       "      <td>0.0</td>\n",
       "      <td>0.0</td>\n",
       "    </tr>\n",
       "    <tr>\n",
       "      <th>4</th>\n",
       "      <td>2010-07-06 00:00:00-04:00</td>\n",
       "      <td>1.333333</td>\n",
       "      <td>1.333333</td>\n",
       "      <td>1.055333</td>\n",
       "      <td>1.074000</td>\n",
       "      <td>103003500</td>\n",
       "      <td>0.0</td>\n",
       "      <td>0.0</td>\n",
       "    </tr>\n",
       "  </tbody>\n",
       "</table>\n",
       "</div>"
      ],
      "text/plain": [
       "                       Date      Open      High       Low     Close  \\\n",
       "0 2010-06-29 00:00:00-04:00  1.266667  1.666667  1.169333  1.592667   \n",
       "1 2010-06-30 00:00:00-04:00  1.719333  2.028000  1.553333  1.588667   \n",
       "2 2010-07-01 00:00:00-04:00  1.666667  1.728000  1.351333  1.464000   \n",
       "3 2010-07-02 00:00:00-04:00  1.533333  1.540000  1.247333  1.280000   \n",
       "4 2010-07-06 00:00:00-04:00  1.333333  1.333333  1.055333  1.074000   \n",
       "\n",
       "      Volume  Dividends  Stock Splits  \n",
       "0  281494500        0.0           0.0  \n",
       "1  257806500        0.0           0.0  \n",
       "2  123282000        0.0           0.0  \n",
       "3   77097000        0.0           0.0  \n",
       "4  103003500        0.0           0.0  "
      ]
     },
     "execution_count": 13,
     "metadata": {},
     "output_type": "execute_result"
    }
   ],
   "source": [
    "tesla_data.reset_index(inplace = True)\n",
    "tesla_data.head(5)"
   ]
  },
  {
   "cell_type": "markdown",
   "id": "ec43d23c-ecee-423c-b241-58411df1dc9b",
   "metadata": {},
   "source": [
    "## Question 2: Use Webscraping to Extract Tesla Revenue Data"
   ]
  },
  {
   "cell_type": "code",
   "execution_count": 15,
   "id": "01ab7414-9d40-4b6f-92f5-fcc7ba67f259",
   "metadata": {},
   "outputs": [],
   "source": [
    "url = 'https://cf-courses-data.s3.us.cloud-object-storage.appdomain.cloud/IBMDeveloperSkillsNetwork-PY0220EN-SkillsNetwork/labs/project/revenue.htm'\n",
    "html_data = requests.get(url).text"
   ]
  },
  {
   "cell_type": "markdown",
   "id": "1f31701b-8b0d-42f3-b701-719f94d7333b",
   "metadata": {},
   "source": [
    "\n",
    "Parse the html data using beautiful_soup using parser i.e html5lib or html.parser."
   ]
  },
  {
   "cell_type": "code",
   "execution_count": 17,
   "id": "5817df81-adbb-43ec-b730-3f90c825dc8f",
   "metadata": {},
   "outputs": [],
   "source": [
    "soup = BeautifulSoup(html_data, 'html5lib')"
   ]
  },
  {
   "cell_type": "markdown",
   "id": "1f3a7a94-e771-431e-b158-afd88333f198",
   "metadata": {},
   "source": [
    "Using BeautifulSoup or the read_html function extract the table with Tesla Revenue and store it into a dataframe named tesla_revenue. The dataframe should have columns Date and Revenue."
   ]
  },
  {
   "cell_type": "code",
   "execution_count": 21,
   "id": "47763d34-cd35-49bd-b925-27a283f001e4",
   "metadata": {},
   "outputs": [
    {
     "name": "stderr",
     "output_type": "stream",
     "text": [
      "C:\\Users\\amand\\AppData\\Local\\Temp\\ipykernel_17776\\618726661.py:1: FutureWarning:\n",
      "\n",
      "Passing literal html to 'read_html' is deprecated and will be removed in a future version. To read from a literal string, wrap it in a 'StringIO' object.\n",
      "\n"
     ]
    },
    {
     "data": {
      "text/plain": [
       "[    Tesla Annual Revenue (Millions of US $)  \\\n",
       " 0                                      2021   \n",
       " 1                                      2020   \n",
       " 2                                      2019   \n",
       " 3                                      2018   \n",
       " 4                                      2017   \n",
       " 5                                      2016   \n",
       " 6                                      2015   \n",
       " 7                                      2014   \n",
       " 8                                      2013   \n",
       " 9                                      2012   \n",
       " 10                                     2011   \n",
       " 11                                     2010   \n",
       " 12                                     2009   \n",
       " \n",
       "    Tesla Annual Revenue (Millions of US $).1  \n",
       " 0                                    $53,823  \n",
       " 1                                    $31,536  \n",
       " 2                                    $24,578  \n",
       " 3                                    $21,461  \n",
       " 4                                    $11,759  \n",
       " 5                                     $7,000  \n",
       " 6                                     $4,046  \n",
       " 7                                     $3,198  \n",
       " 8                                     $2,013  \n",
       " 9                                       $413  \n",
       " 10                                      $204  \n",
       " 11                                      $117  \n",
       " 12                                      $112  ,\n",
       "    Tesla Quarterly Revenue (Millions of US $)  \\\n",
       " 0                                  2022-09-30   \n",
       " 1                                  2022-06-30   \n",
       " 2                                  2022-03-31   \n",
       " 3                                  2021-12-31   \n",
       " 4                                  2021-09-30   \n",
       " 5                                  2021-06-30   \n",
       " 6                                  2021-03-31   \n",
       " 7                                  2020-12-31   \n",
       " 8                                  2020-09-30   \n",
       " 9                                  2020-06-30   \n",
       " 10                                 2020-03-31   \n",
       " 11                                 2019-12-31   \n",
       " 12                                 2019-09-30   \n",
       " 13                                 2019-06-30   \n",
       " 14                                 2019-03-31   \n",
       " 15                                 2018-12-31   \n",
       " 16                                 2018-09-30   \n",
       " 17                                 2018-06-30   \n",
       " 18                                 2018-03-31   \n",
       " 19                                 2017-12-31   \n",
       " 20                                 2017-09-30   \n",
       " 21                                 2017-06-30   \n",
       " 22                                 2017-03-31   \n",
       " 23                                 2016-12-31   \n",
       " 24                                 2016-09-30   \n",
       " 25                                 2016-06-30   \n",
       " 26                                 2016-03-31   \n",
       " 27                                 2015-12-31   \n",
       " 28                                 2015-09-30   \n",
       " 29                                 2015-06-30   \n",
       " 30                                 2015-03-31   \n",
       " 31                                 2014-12-31   \n",
       " 32                                 2014-09-30   \n",
       " 33                                 2014-06-30   \n",
       " 34                                 2014-03-31   \n",
       " 35                                 2013-12-31   \n",
       " 36                                 2013-09-30   \n",
       " 37                                 2013-06-30   \n",
       " 38                                 2013-03-31   \n",
       " 39                                 2012-12-31   \n",
       " 40                                 2012-09-30   \n",
       " 41                                 2012-06-30   \n",
       " 42                                 2012-03-31   \n",
       " 43                                 2011-12-31   \n",
       " 44                                 2011-09-30   \n",
       " 45                                 2011-06-30   \n",
       " 46                                 2011-03-31   \n",
       " 47                                 2010-12-31   \n",
       " 48                                 2010-09-30   \n",
       " 49                                 2010-06-30   \n",
       " 50                                 2010-03-31   \n",
       " 51                                 2009-12-31   \n",
       " 52                                 2009-09-30   \n",
       " 53                                 2009-06-30   \n",
       " \n",
       "    Tesla Quarterly Revenue (Millions of US $).1  \n",
       " 0                                       $21,454  \n",
       " 1                                       $16,934  \n",
       " 2                                       $18,756  \n",
       " 3                                       $17,719  \n",
       " 4                                       $13,757  \n",
       " 5                                       $11,958  \n",
       " 6                                       $10,389  \n",
       " 7                                       $10,744  \n",
       " 8                                        $8,771  \n",
       " 9                                        $6,036  \n",
       " 10                                       $5,985  \n",
       " 11                                       $7,384  \n",
       " 12                                       $6,303  \n",
       " 13                                       $6,350  \n",
       " 14                                       $4,541  \n",
       " 15                                       $7,226  \n",
       " 16                                       $6,824  \n",
       " 17                                       $4,002  \n",
       " 18                                       $3,409  \n",
       " 19                                       $3,288  \n",
       " 20                                       $2,985  \n",
       " 21                                       $2,790  \n",
       " 22                                       $2,696  \n",
       " 23                                       $2,285  \n",
       " 24                                       $2,298  \n",
       " 25                                       $1,270  \n",
       " 26                                       $1,147  \n",
       " 27                                       $1,214  \n",
       " 28                                         $937  \n",
       " 29                                         $955  \n",
       " 30                                         $940  \n",
       " 31                                         $957  \n",
       " 32                                         $852  \n",
       " 33                                         $769  \n",
       " 34                                         $621  \n",
       " 35                                         $615  \n",
       " 36                                         $431  \n",
       " 37                                         $405  \n",
       " 38                                         $562  \n",
       " 39                                         $306  \n",
       " 40                                          $50  \n",
       " 41                                          $27  \n",
       " 42                                          $30  \n",
       " 43                                          $39  \n",
       " 44                                          $58  \n",
       " 45                                          $58  \n",
       " 46                                          $49  \n",
       " 47                                          $36  \n",
       " 48                                          $31  \n",
       " 49                                          $28  \n",
       " 50                                          $21  \n",
       " 51                                          NaN  \n",
       " 52                                          $46  \n",
       " 53                                          $27  ,\n",
       "                                               Sector  \\\n",
       " 0                                  Auto/Tires/Trucks   \n",
       " 1  Tesla is the market leader in battery-powered ...   \n",
       " \n",
       "                                             Industry  \\\n",
       " 0                      Auto Manufacturers - Domestic   \n",
       " 1  Tesla is the market leader in battery-powered ...   \n",
       " \n",
       "                                           Market Cap  \\\n",
       " 0                                          $549.575B   \n",
       " 1  Tesla is the market leader in battery-powered ...   \n",
       " \n",
       "                                              Revenue  \n",
       " 0                                           $53.823B  \n",
       " 1  Tesla is the market leader in battery-powered ...  ,\n",
       "                 Stock Name        Country Market Cap  PE Ratio\n",
       " 0      General Motors (GM)  United States   $53.930B      5.56\n",
       " 1           Ford Motor (F)  United States   $52.668B      8.09\n",
       " 2    Harley-Davidson (HOG)  United States    $6.762B      9.56\n",
       " 3            Polaris (PII)  United States    $6.267B     11.86\n",
       " 4                IAA (IAA)  United States    $5.134B     16.40\n",
       " 5             Fisker (FSR)  United States    $2.261B      0.00\n",
       " 6      Lion Electric (LEV)         Canada    $0.551B      0.00\n",
       " 7             Volta (VLTA)  United States    $0.071B      0.00\n",
       " 8       Bird Global (BRDS)  United States    $0.054B      0.00\n",
       " 9  Lightning EMotors (ZEV)  United States    $0.043B      0.00,\n",
       "                      Link Preview  HTML Code (Click to Copy)\n",
       " 0  Tesla Revenue 2010-2022 | TSLA                        NaN\n",
       " 1                     Macrotrends                        NaN\n",
       " 2                          Source                        NaN,\n",
       "                      Link Preview  HTML Code (Click to Copy)\n",
       " 0  Tesla Revenue 2010-2022 | TSLA                        NaN\n",
       " 1                     Macrotrends                        NaN\n",
       " 2                          Source                        NaN]"
      ]
     },
     "execution_count": 21,
     "metadata": {},
     "output_type": "execute_result"
    }
   ],
   "source": [
    "pd.read_html(str(soup)) # Utilizando read_html a partir do soup"
   ]
  },
  {
   "cell_type": "code",
   "execution_count": 22,
   "id": "b806aac4-827b-47eb-9772-4d49573cbadd",
   "metadata": {},
   "outputs": [
    {
     "data": {
      "text/plain": [
       "list"
      ]
     },
     "execution_count": 22,
     "metadata": {},
     "output_type": "execute_result"
    }
   ],
   "source": [
    "data = pd.read_html(StringIO(html_data)) # Utilizando html_data sem o soup \n",
    "type(data)"
   ]
  },
  {
   "cell_type": "code",
   "execution_count": 23,
   "id": "1ff5a7c8-6c3d-46af-ac83-e88bb7eab547",
   "metadata": {},
   "outputs": [
    {
     "data": {
      "text/plain": [
       "6"
      ]
     },
     "execution_count": 23,
     "metadata": {},
     "output_type": "execute_result"
    }
   ],
   "source": [
    "len(data)"
   ]
  },
  {
   "cell_type": "code",
   "execution_count": 24,
   "id": "37f931ae-9675-4b07-9b66-d252b9f0ae5f",
   "metadata": {},
   "outputs": [],
   "source": [
    "tesla_revenue = pd.DataFrame(data[1])"
   ]
  },
  {
   "cell_type": "code",
   "execution_count": 25,
   "id": "0175ccc3-37fd-4319-ba99-54f04e9ee9c5",
   "metadata": {},
   "outputs": [],
   "source": [
    "tesla_revenue.rename(columns ={'Tesla Quarterly Revenue (Millions of US $)': 'Date', 'Tesla Quarterly Revenue (Millions of US $).1':'Revenue'}, inplace=True)"
   ]
  },
  {
   "cell_type": "code",
   "execution_count": 26,
   "id": "9af553b1-e7eb-4fa7-8167-614fad58d7c3",
   "metadata": {},
   "outputs": [
    {
     "data": {
      "text/html": [
       "<div>\n",
       "<style scoped>\n",
       "    .dataframe tbody tr th:only-of-type {\n",
       "        vertical-align: middle;\n",
       "    }\n",
       "\n",
       "    .dataframe tbody tr th {\n",
       "        vertical-align: top;\n",
       "    }\n",
       "\n",
       "    .dataframe thead th {\n",
       "        text-align: right;\n",
       "    }\n",
       "</style>\n",
       "<table border=\"1\" class=\"dataframe\">\n",
       "  <thead>\n",
       "    <tr style=\"text-align: right;\">\n",
       "      <th></th>\n",
       "      <th>Date</th>\n",
       "      <th>Revenue</th>\n",
       "    </tr>\n",
       "  </thead>\n",
       "  <tbody>\n",
       "    <tr>\n",
       "      <th>0</th>\n",
       "      <td>2022-09-30</td>\n",
       "      <td>21454</td>\n",
       "    </tr>\n",
       "    <tr>\n",
       "      <th>1</th>\n",
       "      <td>2022-06-30</td>\n",
       "      <td>16934</td>\n",
       "    </tr>\n",
       "    <tr>\n",
       "      <th>2</th>\n",
       "      <td>2022-03-31</td>\n",
       "      <td>18756</td>\n",
       "    </tr>\n",
       "    <tr>\n",
       "      <th>3</th>\n",
       "      <td>2021-12-31</td>\n",
       "      <td>17719</td>\n",
       "    </tr>\n",
       "    <tr>\n",
       "      <th>4</th>\n",
       "      <td>2021-09-30</td>\n",
       "      <td>13757</td>\n",
       "    </tr>\n",
       "  </tbody>\n",
       "</table>\n",
       "</div>"
      ],
      "text/plain": [
       "         Date Revenue\n",
       "0  2022-09-30   21454\n",
       "1  2022-06-30   16934\n",
       "2  2022-03-31   18756\n",
       "3  2021-12-31   17719\n",
       "4  2021-09-30   13757"
      ]
     },
     "execution_count": 26,
     "metadata": {},
     "output_type": "execute_result"
    }
   ],
   "source": [
    "# Remover virgulas e cifrões da coluna Revenue\n",
    "\n",
    "tesla_revenue['Revenue'] = tesla_revenue['Revenue'].replace(',|\\$', \"\", regex=True) \n",
    "tesla_revenue.head()"
   ]
  },
  {
   "cell_type": "code",
   "execution_count": 27,
   "id": "1f9d69fa-5ed4-43d6-80ac-9b9b2ca10063",
   "metadata": {},
   "outputs": [],
   "source": [
    "# Remover valores vazios \n",
    "\n",
    "tesla_revenue.dropna(inplace=True) # Remove colunas vazias\n",
    "\n",
    "tesla_revenue = tesla_revenue[tesla_revenue['Revenue'] != \"\"]"
   ]
  },
  {
   "cell_type": "code",
   "execution_count": 28,
   "id": "b6c6a08d-4bf4-4c4d-8ffe-2bb86d17c4b2",
   "metadata": {},
   "outputs": [
    {
     "data": {
      "text/html": [
       "<div>\n",
       "<style scoped>\n",
       "    .dataframe tbody tr th:only-of-type {\n",
       "        vertical-align: middle;\n",
       "    }\n",
       "\n",
       "    .dataframe tbody tr th {\n",
       "        vertical-align: top;\n",
       "    }\n",
       "\n",
       "    .dataframe thead th {\n",
       "        text-align: right;\n",
       "    }\n",
       "</style>\n",
       "<table border=\"1\" class=\"dataframe\">\n",
       "  <thead>\n",
       "    <tr style=\"text-align: right;\">\n",
       "      <th></th>\n",
       "      <th>Date</th>\n",
       "      <th>Revenue</th>\n",
       "    </tr>\n",
       "  </thead>\n",
       "  <tbody>\n",
       "    <tr>\n",
       "      <th>48</th>\n",
       "      <td>2010-09-30</td>\n",
       "      <td>31</td>\n",
       "    </tr>\n",
       "    <tr>\n",
       "      <th>49</th>\n",
       "      <td>2010-06-30</td>\n",
       "      <td>28</td>\n",
       "    </tr>\n",
       "    <tr>\n",
       "      <th>50</th>\n",
       "      <td>2010-03-31</td>\n",
       "      <td>21</td>\n",
       "    </tr>\n",
       "    <tr>\n",
       "      <th>52</th>\n",
       "      <td>2009-09-30</td>\n",
       "      <td>46</td>\n",
       "    </tr>\n",
       "    <tr>\n",
       "      <th>53</th>\n",
       "      <td>2009-06-30</td>\n",
       "      <td>27</td>\n",
       "    </tr>\n",
       "  </tbody>\n",
       "</table>\n",
       "</div>"
      ],
      "text/plain": [
       "          Date Revenue\n",
       "48  2010-09-30      31\n",
       "49  2010-06-30      28\n",
       "50  2010-03-31      21\n",
       "52  2009-09-30      46\n",
       "53  2009-06-30      27"
      ]
     },
     "execution_count": 28,
     "metadata": {},
     "output_type": "execute_result"
    }
   ],
   "source": [
    "tesla_revenue.tail()"
   ]
  },
  {
   "cell_type": "markdown",
   "id": "8b25df42-14e6-420a-bd39-29793d5dd63b",
   "metadata": {},
   "source": [
    "## Question 3: Use yfinance to Extract Stock Data"
   ]
  },
  {
   "cell_type": "code",
   "execution_count": 39,
   "id": "b13761b5-706c-4aaf-a7e7-eb9729222d6a",
   "metadata": {},
   "outputs": [
    {
     "data": {
      "text/plain": [
       "yfinance.Ticker object <GME>"
      ]
     },
     "execution_count": 39,
     "metadata": {},
     "output_type": "execute_result"
    }
   ],
   "source": [
    "ticker = yf.Ticker('GME')\n",
    "ticker"
   ]
  },
  {
   "cell_type": "code",
   "execution_count": 41,
   "id": "eb34f891-84b5-4a15-83c3-f46b9a48e33f",
   "metadata": {},
   "outputs": [],
   "source": [
    "gme_data = ticker.history(period = 'max')"
   ]
  },
  {
   "cell_type": "code",
   "execution_count": 43,
   "id": "269241ff-d488-4d42-9f85-cfbc285d448f",
   "metadata": {},
   "outputs": [
    {
     "data": {
      "text/html": [
       "<div>\n",
       "<style scoped>\n",
       "    .dataframe tbody tr th:only-of-type {\n",
       "        vertical-align: middle;\n",
       "    }\n",
       "\n",
       "    .dataframe tbody tr th {\n",
       "        vertical-align: top;\n",
       "    }\n",
       "\n",
       "    .dataframe thead th {\n",
       "        text-align: right;\n",
       "    }\n",
       "</style>\n",
       "<table border=\"1\" class=\"dataframe\">\n",
       "  <thead>\n",
       "    <tr style=\"text-align: right;\">\n",
       "      <th></th>\n",
       "      <th>Date</th>\n",
       "      <th>Open</th>\n",
       "      <th>High</th>\n",
       "      <th>Low</th>\n",
       "      <th>Close</th>\n",
       "      <th>Volume</th>\n",
       "      <th>Dividends</th>\n",
       "      <th>Stock Splits</th>\n",
       "    </tr>\n",
       "  </thead>\n",
       "  <tbody>\n",
       "    <tr>\n",
       "      <th>0</th>\n",
       "      <td>2002-02-13 00:00:00-05:00</td>\n",
       "      <td>1.620128</td>\n",
       "      <td>1.693350</td>\n",
       "      <td>1.603296</td>\n",
       "      <td>1.691666</td>\n",
       "      <td>76216000</td>\n",
       "      <td>0.0</td>\n",
       "      <td>0.0</td>\n",
       "    </tr>\n",
       "    <tr>\n",
       "      <th>1</th>\n",
       "      <td>2002-02-14 00:00:00-05:00</td>\n",
       "      <td>1.712707</td>\n",
       "      <td>1.716074</td>\n",
       "      <td>1.670626</td>\n",
       "      <td>1.683251</td>\n",
       "      <td>11021600</td>\n",
       "      <td>0.0</td>\n",
       "      <td>0.0</td>\n",
       "    </tr>\n",
       "    <tr>\n",
       "      <th>2</th>\n",
       "      <td>2002-02-15 00:00:00-05:00</td>\n",
       "      <td>1.683250</td>\n",
       "      <td>1.687458</td>\n",
       "      <td>1.658001</td>\n",
       "      <td>1.674834</td>\n",
       "      <td>8389600</td>\n",
       "      <td>0.0</td>\n",
       "      <td>0.0</td>\n",
       "    </tr>\n",
       "    <tr>\n",
       "      <th>3</th>\n",
       "      <td>2002-02-19 00:00:00-05:00</td>\n",
       "      <td>1.666418</td>\n",
       "      <td>1.666418</td>\n",
       "      <td>1.578047</td>\n",
       "      <td>1.607504</td>\n",
       "      <td>7410400</td>\n",
       "      <td>0.0</td>\n",
       "      <td>0.0</td>\n",
       "    </tr>\n",
       "    <tr>\n",
       "      <th>4</th>\n",
       "      <td>2002-02-20 00:00:00-05:00</td>\n",
       "      <td>1.615920</td>\n",
       "      <td>1.662209</td>\n",
       "      <td>1.603296</td>\n",
       "      <td>1.662209</td>\n",
       "      <td>6892800</td>\n",
       "      <td>0.0</td>\n",
       "      <td>0.0</td>\n",
       "    </tr>\n",
       "  </tbody>\n",
       "</table>\n",
       "</div>"
      ],
      "text/plain": [
       "                       Date      Open      High       Low     Close    Volume  \\\n",
       "0 2002-02-13 00:00:00-05:00  1.620128  1.693350  1.603296  1.691666  76216000   \n",
       "1 2002-02-14 00:00:00-05:00  1.712707  1.716074  1.670626  1.683251  11021600   \n",
       "2 2002-02-15 00:00:00-05:00  1.683250  1.687458  1.658001  1.674834   8389600   \n",
       "3 2002-02-19 00:00:00-05:00  1.666418  1.666418  1.578047  1.607504   7410400   \n",
       "4 2002-02-20 00:00:00-05:00  1.615920  1.662209  1.603296  1.662209   6892800   \n",
       "\n",
       "   Dividends  Stock Splits  \n",
       "0        0.0           0.0  \n",
       "1        0.0           0.0  \n",
       "2        0.0           0.0  \n",
       "3        0.0           0.0  \n",
       "4        0.0           0.0  "
      ]
     },
     "execution_count": 43,
     "metadata": {},
     "output_type": "execute_result"
    }
   ],
   "source": [
    "gme_data.reset_index(inplace=True)\n",
    "gme_data.head(5)"
   ]
  },
  {
   "cell_type": "markdown",
   "id": "8f6fb316-8b8f-480c-91a8-8649f164e730",
   "metadata": {},
   "source": [
    "## Question 4: Use Webscraping to Extract GME Revenue Data"
   ]
  },
  {
   "cell_type": "code",
   "execution_count": 45,
   "id": "f4d0e0ad-7e58-4f56-b5f8-cc974ffa3deb",
   "metadata": {},
   "outputs": [],
   "source": [
    "url = 'https://cf-courses-data.s3.us.cloud-object-storage.appdomain.cloud/IBMDeveloperSkillsNetwork-PY0220EN-SkillsNetwork/labs/project/stock.html'"
   ]
  },
  {
   "cell_type": "code",
   "execution_count": 46,
   "id": "e222f128-8423-4a39-b912-47129d096ee0",
   "metadata": {},
   "outputs": [],
   "source": [
    "html_data_2 = requests.get(url).text"
   ]
  },
  {
   "cell_type": "code",
   "execution_count": 47,
   "id": "c426ba7d-2f85-462a-a92b-e4f592386897",
   "metadata": {},
   "outputs": [],
   "source": [
    "soup = BeautifulSoup(html_data_2, 'html5lib')"
   ]
  },
  {
   "cell_type": "code",
   "execution_count": 48,
   "id": "ea02600a-97cb-4f74-85f7-306ca868a5c9",
   "metadata": {},
   "outputs": [],
   "source": [
    "data = pd.read_html(StringIO(html_data_2))"
   ]
  },
  {
   "cell_type": "code",
   "execution_count": 52,
   "id": "226c2f85-13ce-4c05-9ba9-a35c0c2774fc",
   "metadata": {
    "scrolled": true
   },
   "outputs": [
    {
     "data": {
      "text/html": [
       "<div>\n",
       "<style scoped>\n",
       "    .dataframe tbody tr th:only-of-type {\n",
       "        vertical-align: middle;\n",
       "    }\n",
       "\n",
       "    .dataframe tbody tr th {\n",
       "        vertical-align: top;\n",
       "    }\n",
       "\n",
       "    .dataframe thead th {\n",
       "        text-align: right;\n",
       "    }\n",
       "</style>\n",
       "<table border=\"1\" class=\"dataframe\">\n",
       "  <thead>\n",
       "    <tr style=\"text-align: right;\">\n",
       "      <th></th>\n",
       "      <th>GameStop Quarterly Revenue (Millions of US $)</th>\n",
       "      <th>GameStop Quarterly Revenue (Millions of US $).1</th>\n",
       "    </tr>\n",
       "  </thead>\n",
       "  <tbody>\n",
       "    <tr>\n",
       "      <th>0</th>\n",
       "      <td>2020-04-30</td>\n",
       "      <td>$1,021</td>\n",
       "    </tr>\n",
       "    <tr>\n",
       "      <th>1</th>\n",
       "      <td>2020-01-31</td>\n",
       "      <td>$2,194</td>\n",
       "    </tr>\n",
       "    <tr>\n",
       "      <th>2</th>\n",
       "      <td>2019-10-31</td>\n",
       "      <td>$1,439</td>\n",
       "    </tr>\n",
       "    <tr>\n",
       "      <th>3</th>\n",
       "      <td>2019-07-31</td>\n",
       "      <td>$1,286</td>\n",
       "    </tr>\n",
       "    <tr>\n",
       "      <th>4</th>\n",
       "      <td>2019-04-30</td>\n",
       "      <td>$1,548</td>\n",
       "    </tr>\n",
       "    <tr>\n",
       "      <th>...</th>\n",
       "      <td>...</td>\n",
       "      <td>...</td>\n",
       "    </tr>\n",
       "    <tr>\n",
       "      <th>57</th>\n",
       "      <td>2006-01-31</td>\n",
       "      <td>$1,667</td>\n",
       "    </tr>\n",
       "    <tr>\n",
       "      <th>58</th>\n",
       "      <td>2005-10-31</td>\n",
       "      <td>$534</td>\n",
       "    </tr>\n",
       "    <tr>\n",
       "      <th>59</th>\n",
       "      <td>2005-07-31</td>\n",
       "      <td>$416</td>\n",
       "    </tr>\n",
       "    <tr>\n",
       "      <th>60</th>\n",
       "      <td>2005-04-30</td>\n",
       "      <td>$475</td>\n",
       "    </tr>\n",
       "    <tr>\n",
       "      <th>61</th>\n",
       "      <td>2005-01-31</td>\n",
       "      <td>$709</td>\n",
       "    </tr>\n",
       "  </tbody>\n",
       "</table>\n",
       "<p>62 rows × 2 columns</p>\n",
       "</div>"
      ],
      "text/plain": [
       "   GameStop Quarterly Revenue (Millions of US $)  \\\n",
       "0                                     2020-04-30   \n",
       "1                                     2020-01-31   \n",
       "2                                     2019-10-31   \n",
       "3                                     2019-07-31   \n",
       "4                                     2019-04-30   \n",
       "..                                           ...   \n",
       "57                                    2006-01-31   \n",
       "58                                    2005-10-31   \n",
       "59                                    2005-07-31   \n",
       "60                                    2005-04-30   \n",
       "61                                    2005-01-31   \n",
       "\n",
       "   GameStop Quarterly Revenue (Millions of US $).1  \n",
       "0                                           $1,021  \n",
       "1                                           $2,194  \n",
       "2                                           $1,439  \n",
       "3                                           $1,286  \n",
       "4                                           $1,548  \n",
       "..                                             ...  \n",
       "57                                          $1,667  \n",
       "58                                            $534  \n",
       "59                                            $416  \n",
       "60                                            $475  \n",
       "61                                            $709  \n",
       "\n",
       "[62 rows x 2 columns]"
      ]
     },
     "execution_count": 52,
     "metadata": {},
     "output_type": "execute_result"
    }
   ],
   "source": [
    "data[1]"
   ]
  },
  {
   "cell_type": "code",
   "execution_count": 53,
   "id": "291ca8ad-5d18-43e9-a8a4-c91180f7b3c2",
   "metadata": {},
   "outputs": [
    {
     "data": {
      "text/html": [
       "<div>\n",
       "<style scoped>\n",
       "    .dataframe tbody tr th:only-of-type {\n",
       "        vertical-align: middle;\n",
       "    }\n",
       "\n",
       "    .dataframe tbody tr th {\n",
       "        vertical-align: top;\n",
       "    }\n",
       "\n",
       "    .dataframe thead th {\n",
       "        text-align: right;\n",
       "    }\n",
       "</style>\n",
       "<table border=\"1\" class=\"dataframe\">\n",
       "  <thead>\n",
       "    <tr style=\"text-align: right;\">\n",
       "      <th></th>\n",
       "      <th>GameStop Quarterly Revenue (Millions of US $)</th>\n",
       "      <th>GameStop Quarterly Revenue (Millions of US $).1</th>\n",
       "    </tr>\n",
       "  </thead>\n",
       "  <tbody>\n",
       "    <tr>\n",
       "      <th>0</th>\n",
       "      <td>2020-04-30</td>\n",
       "      <td>$1,021</td>\n",
       "    </tr>\n",
       "    <tr>\n",
       "      <th>1</th>\n",
       "      <td>2020-01-31</td>\n",
       "      <td>$2,194</td>\n",
       "    </tr>\n",
       "    <tr>\n",
       "      <th>2</th>\n",
       "      <td>2019-10-31</td>\n",
       "      <td>$1,439</td>\n",
       "    </tr>\n",
       "    <tr>\n",
       "      <th>3</th>\n",
       "      <td>2019-07-31</td>\n",
       "      <td>$1,286</td>\n",
       "    </tr>\n",
       "    <tr>\n",
       "      <th>4</th>\n",
       "      <td>2019-04-30</td>\n",
       "      <td>$1,548</td>\n",
       "    </tr>\n",
       "  </tbody>\n",
       "</table>\n",
       "</div>"
      ],
      "text/plain": [
       "  GameStop Quarterly Revenue (Millions of US $)  \\\n",
       "0                                    2020-04-30   \n",
       "1                                    2020-01-31   \n",
       "2                                    2019-10-31   \n",
       "3                                    2019-07-31   \n",
       "4                                    2019-04-30   \n",
       "\n",
       "  GameStop Quarterly Revenue (Millions of US $).1  \n",
       "0                                          $1,021  \n",
       "1                                          $2,194  \n",
       "2                                          $1,439  \n",
       "3                                          $1,286  \n",
       "4                                          $1,548  "
      ]
     },
     "execution_count": 53,
     "metadata": {},
     "output_type": "execute_result"
    }
   ],
   "source": [
    "gme_revenue = pd.DataFrame(data[1])\n",
    "gme_revenue.head()"
   ]
  },
  {
   "cell_type": "code",
   "execution_count": 54,
   "id": "db520eb6-c9ed-49bd-b612-9c756b0179fd",
   "metadata": {},
   "outputs": [],
   "source": [
    "gme_revenue = gme_revenue.rename(columns = {'GameStop Quarterly Revenue (Millions of US $)': 'Date', 'GameStop Quarterly Revenue (Millions of US $).1':'Revenue'})"
   ]
  },
  {
   "cell_type": "code",
   "execution_count": 55,
   "id": "b64ad1b2-c88f-49e2-8ef3-537665b9957d",
   "metadata": {},
   "outputs": [],
   "source": [
    "gme_revenue['Revenue'] = gme_revenue['Revenue'].replace(',|\\$','', regex=True)"
   ]
  },
  {
   "cell_type": "code",
   "execution_count": 56,
   "id": "ebf3c2b6-33c5-4dc7-9166-f3d55a21144a",
   "metadata": {},
   "outputs": [
    {
     "data": {
      "text/html": [
       "<div>\n",
       "<style scoped>\n",
       "    .dataframe tbody tr th:only-of-type {\n",
       "        vertical-align: middle;\n",
       "    }\n",
       "\n",
       "    .dataframe tbody tr th {\n",
       "        vertical-align: top;\n",
       "    }\n",
       "\n",
       "    .dataframe thead th {\n",
       "        text-align: right;\n",
       "    }\n",
       "</style>\n",
       "<table border=\"1\" class=\"dataframe\">\n",
       "  <thead>\n",
       "    <tr style=\"text-align: right;\">\n",
       "      <th></th>\n",
       "      <th>Date</th>\n",
       "      <th>Revenue</th>\n",
       "    </tr>\n",
       "  </thead>\n",
       "  <tbody>\n",
       "    <tr>\n",
       "      <th>0</th>\n",
       "      <td>2020-04-30</td>\n",
       "      <td>1021</td>\n",
       "    </tr>\n",
       "    <tr>\n",
       "      <th>1</th>\n",
       "      <td>2020-01-31</td>\n",
       "      <td>2194</td>\n",
       "    </tr>\n",
       "    <tr>\n",
       "      <th>2</th>\n",
       "      <td>2019-10-31</td>\n",
       "      <td>1439</td>\n",
       "    </tr>\n",
       "    <tr>\n",
       "      <th>3</th>\n",
       "      <td>2019-07-31</td>\n",
       "      <td>1286</td>\n",
       "    </tr>\n",
       "    <tr>\n",
       "      <th>4</th>\n",
       "      <td>2019-04-30</td>\n",
       "      <td>1548</td>\n",
       "    </tr>\n",
       "  </tbody>\n",
       "</table>\n",
       "</div>"
      ],
      "text/plain": [
       "         Date Revenue\n",
       "0  2020-04-30    1021\n",
       "1  2020-01-31    2194\n",
       "2  2019-10-31    1439\n",
       "3  2019-07-31    1286\n",
       "4  2019-04-30    1548"
      ]
     },
     "execution_count": 56,
     "metadata": {},
     "output_type": "execute_result"
    }
   ],
   "source": [
    "gme_revenue.head()"
   ]
  },
  {
   "cell_type": "markdown",
   "id": "0c1aa97a-dff3-4f9b-92c2-135addef250d",
   "metadata": {},
   "source": [
    "## Question 5: Plot Tesla Stock Graph"
   ]
  },
  {
   "cell_type": "markdown",
   "id": "2263f486-27a3-44c8-bfbc-e5eb4b545a2e",
   "metadata": {},
   "source": [
    "\n",
    "Use the make_graph function to graph the Tesla Stock Data, also provide a title for the graph. Note the graph will only show data upto June 2021."
   ]
  },
  {
   "cell_type": "code",
   "execution_count": 67,
   "id": "08ea7446-9a92-49d8-8ef7-8786e40b5b8c",
   "metadata": {},
   "outputs": [],
   "source": [
    "make_graph(tesla_revenue, tesla_revenue, 'Tesla')"
   ]
  },
  {
   "cell_type": "markdown",
   "id": "ed26cc13-9759-4a2d-bd8a-e688659857d2",
   "metadata": {},
   "source": [
    "## Question 5: Plot Tesla Stock Graph"
   ]
  },
  {
   "cell_type": "code",
   "execution_count": 68,
   "id": "00efcc44-22da-4230-8fff-65e16b2288c7",
   "metadata": {},
   "outputs": [],
   "source": [
    "make_graph(gme_revenue, gme_revenue, 'Game Stop')"
   ]
  }
 ],
 "metadata": {
  "kernelspec": {
   "display_name": "courseraenviroment",
   "language": "python",
   "name": "courseraenviroment"
  },
  "language_info": {
   "codemirror_mode": {
    "name": "ipython",
    "version": 3
   },
   "file_extension": ".py",
   "mimetype": "text/x-python",
   "name": "python",
   "nbconvert_exporter": "python",
   "pygments_lexer": "ipython3",
   "version": "3.9.13"
  }
 },
 "nbformat": 4,
 "nbformat_minor": 5
}
